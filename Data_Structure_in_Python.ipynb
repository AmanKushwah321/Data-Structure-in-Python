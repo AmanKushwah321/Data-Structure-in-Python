{
  "nbformat": 4,
  "nbformat_minor": 0,
  "metadata": {
    "colab": {
      "provenance": []
    },
    "kernelspec": {
      "name": "python3",
      "display_name": "Python 3"
    },
    "language_info": {
      "name": "python"
    }
  },
  "cells": [
    {
      "cell_type": "markdown",
      "source": [
        "#***Assignment=2 Data Structres***"
      ],
      "metadata": {
        "id": "kzOV1DHbuI2Q"
      }
    },
    {
      "cell_type": "markdown",
      "source": [
        "#1. What are data structures, and why are they important?\n",
        "- Data structures in Python are specialized formats or containers used to store and organize data efficiently.\n",
        "-They provide various ways to store, access, and manipulate data according to specific needs.\n",
        "###Built-in Data Structures:\n",
        "-Lists: Ordered, mutable collections (e.g., [1, 2, 3]).\n",
        "-Tuples: Ordered, immutable collections (e.g., (1, 2, 3)).\n",
        "-Dictionaries: Key-value pairs for fast lookups (e.g., {\"name\": \"Alice\", \"age\": 25}).\n",
        "-Sets: Unordered collections of unique elements (e.g., {1, 2, 3}).\n",
        "###Advanced Data Structures (via libraries or custom implementation):\n",
        "  \n",
        "- Arrays (using numpy for numerical data).\n",
        "  \n",
        "- Stacks: Last-in, first-out (LIFO) structure.\n",
        "  \n",
        "- Queues: First-in, first-out (FIFO) structure.\n",
        "  \n",
        "- Linked Lists: Nodes with data and references to the next node.\n",
        "  \n",
        "- Trees: Hierarchical structures (e.g., binary trees).\n",
        "\n",
        "- Graphs: Nodes connected by edges.\n",
        "\n",
        "\n",
        "##They are important for:-\n",
        "Data structures are critical in programming, especially in data analytics with Python, for the following reasons:\n",
        "\n",
        "1. **Efficiency**: They enable efficient data storage and retrieval. For example, dictionaries provide O(1) average time complexity for lookups, making them ideal for quick data access in large datasets.\n",
        "\n",
        "2. **Organization**: They help structure data logically, making it easier to process and analyze. For instance, a list can store a sequence of data points for time-series analysis.\n",
        "\n",
        "3. **Performance**: Choosing the right data structure optimizes algorithms. For example, sets are perfect for checking membership or removing duplicates quickly.\n",
        "\n",
        "4. **Scalability**: In data analytics, where datasets can be massive, efficient data structures (e.g., arrays in NumPy) reduce memory usage and computation time compared to inefficient ones.\n",
        "\n",
        "5. **Algorithm Implementation**: Many data analytics tasks, like sorting, searching, or graph-based analysis (e.g., network analysis), rely on specific data structures to work effectively.\n",
        "\n",
        "6. **Flexibility**: Python is data structures support diverse operations, like slicing lists, iterating over dictionaries, or performing set operations, which are common in data cleaning and exploration."
      ],
      "metadata": {
        "id": "xaVeCPgsa0Ml"
      }
    },
    {
      "cell_type": "markdown",
      "source": [
        "#2. Explain the difference between mutable and immutable data types with examples?\n",
        "- ***Mutable Data Types***: These can be changed after creation (i.e., their content or value can be modified in place). Mutable types allow in-place modifications without creating a new object. Examples: List, Dictionary and Set."
      ],
      "metadata": {
        "id": "sKUuKs4iL_0Q"
      }
    },
    {
      "cell_type": "code",
      "source": [
        "#List\n",
        "my_list = [1, 2, 3];\n",
        "my_list #become [1, 2, 3]\n",
        "my_list[0]=5\n",
        "my_list"
      ],
      "metadata": {
        "colab": {
          "base_uri": "https://localhost:8080/"
        },
        "id": "c03BevlxPKRA",
        "outputId": "af6b2d56-23cc-462e-9963-a3272426f705"
      },
      "execution_count": 9,
      "outputs": [
        {
          "output_type": "execute_result",
          "data": {
            "text/plain": [
              "[5, 2, 3]"
            ]
          },
          "metadata": {},
          "execution_count": 9
        }
      ]
    },
    {
      "cell_type": "code",
      "source": [
        "#Dictionary\n",
        "my_dict={\"a\": 1};\n",
        "my_dict[\"a\"]=2\n",
        "my_dict"
      ],
      "metadata": {
        "colab": {
          "base_uri": "https://localhost:8080/"
        },
        "id": "MWKwTSaUR0xM",
        "outputId": "830aea0d-0b87-4492-8a38-9413ff448c55"
      },
      "execution_count": 10,
      "outputs": [
        {
          "output_type": "execute_result",
          "data": {
            "text/plain": [
              "{'a': 2}"
            ]
          },
          "metadata": {},
          "execution_count": 10
        }
      ]
    },
    {
      "cell_type": "markdown",
      "source": [
        "- ***Immutable Data Types***: These cannot be changed after creation (any \"modification\" creates a new object). Immutable types are fixed, ensuring data consistency. Examples: String, Tuple and Integer."
      ],
      "metadata": {
        "id": "GBPTrxiFPc4Y"
      }
    },
    {
      "cell_type": "code",
      "source": [
        "#String\n",
        "my_str=\"hello\";\n",
        "my_str[0]=\"H\"    #Raises an error, instead.\n",
        "my_str=\"Hello\"   #creates a new string."
      ],
      "metadata": {
        "colab": {
          "base_uri": "https://localhost:8080/",
          "height": 193
        },
        "id": "0EUbk5YtPesA",
        "outputId": "a6612997-dee2-4774-c622-6d3a91596b96"
      },
      "execution_count": 21,
      "outputs": [
        {
          "output_type": "error",
          "ename": "TypeError",
          "evalue": "'str' object does not support item assignment",
          "traceback": [
            "\u001b[0;31m---------------------------------------------------------------------------\u001b[0m",
            "\u001b[0;31mTypeError\u001b[0m                                 Traceback (most recent call last)",
            "\u001b[0;32m/tmp/ipython-input-21-3799875180.py\u001b[0m in \u001b[0;36m<cell line: 0>\u001b[0;34m()\u001b[0m\n\u001b[1;32m      1\u001b[0m \u001b[0;31m#String\u001b[0m\u001b[0;34m\u001b[0m\u001b[0;34m\u001b[0m\u001b[0m\n\u001b[1;32m      2\u001b[0m \u001b[0mmy_str\u001b[0m\u001b[0;34m=\u001b[0m\u001b[0;34m\"hello\"\u001b[0m\u001b[0;34m;\u001b[0m\u001b[0;34m\u001b[0m\u001b[0;34m\u001b[0m\u001b[0m\n\u001b[0;32m----> 3\u001b[0;31m \u001b[0mmy_str\u001b[0m\u001b[0;34m[\u001b[0m\u001b[0;36m0\u001b[0m\u001b[0;34m]\u001b[0m\u001b[0;34m=\u001b[0m\u001b[0;34m\"H\"\u001b[0m\u001b[0;34m\u001b[0m\u001b[0;34m\u001b[0m\u001b[0m\n\u001b[0m\u001b[1;32m      4\u001b[0m \u001b[0mmy_str\u001b[0m\u001b[0;34m=\u001b[0m\u001b[0;34m\"Hello\"\u001b[0m\u001b[0;34m\u001b[0m\u001b[0;34m\u001b[0m\u001b[0m\n",
            "\u001b[0;31mTypeError\u001b[0m: 'str' object does not support item assignment"
          ]
        }
      ]
    },
    {
      "cell_type": "code",
      "source": [
        "#Tuple\n",
        "my_tuple=(1, 2, 3);\n",
        "my_tuple[0]=5  #Raises an error."
      ],
      "metadata": {
        "colab": {
          "base_uri": "https://localhost:8080/",
          "height": 176
        },
        "id": "qrWiw6LNS5ju",
        "outputId": "3c858755-c1cc-44a3-aa20-fe509972bc6d"
      },
      "execution_count": 22,
      "outputs": [
        {
          "output_type": "error",
          "ename": "TypeError",
          "evalue": "'tuple' object does not support item assignment",
          "traceback": [
            "\u001b[0;31m---------------------------------------------------------------------------\u001b[0m",
            "\u001b[0;31mTypeError\u001b[0m                                 Traceback (most recent call last)",
            "\u001b[0;32m/tmp/ipython-input-22-228504154.py\u001b[0m in \u001b[0;36m<cell line: 0>\u001b[0;34m()\u001b[0m\n\u001b[1;32m      1\u001b[0m \u001b[0;31m#Tuple\u001b[0m\u001b[0;34m\u001b[0m\u001b[0;34m\u001b[0m\u001b[0m\n\u001b[1;32m      2\u001b[0m \u001b[0mmy_tuple\u001b[0m\u001b[0;34m=\u001b[0m\u001b[0;34m(\u001b[0m\u001b[0;36m1\u001b[0m\u001b[0;34m,\u001b[0m \u001b[0;36m2\u001b[0m\u001b[0;34m,\u001b[0m \u001b[0;36m3\u001b[0m\u001b[0;34m)\u001b[0m\u001b[0;34m;\u001b[0m\u001b[0;34m\u001b[0m\u001b[0;34m\u001b[0m\u001b[0m\n\u001b[0;32m----> 3\u001b[0;31m \u001b[0mmy_tuple\u001b[0m\u001b[0;34m[\u001b[0m\u001b[0;36m0\u001b[0m\u001b[0;34m]\u001b[0m\u001b[0;34m=\u001b[0m\u001b[0;36m5\u001b[0m  \u001b[0;31m#Raises an error.\u001b[0m\u001b[0;34m\u001b[0m\u001b[0;34m\u001b[0m\u001b[0m\n\u001b[0m",
            "\u001b[0;31mTypeError\u001b[0m: 'tuple' object does not support item assignment"
          ]
        }
      ]
    },
    {
      "cell_type": "code",
      "source": [
        "#Integer\n",
        "x=5;\n",
        "x=x+1    #Creates a new integer object.\n",
        "x"
      ],
      "metadata": {
        "colab": {
          "base_uri": "https://localhost:8080/"
        },
        "id": "zHpiz802S8Kt",
        "outputId": "9e37a950-b4c8-412c-c26b-10374b7afbdd"
      },
      "execution_count": 24,
      "outputs": [
        {
          "output_type": "execute_result",
          "data": {
            "text/plain": [
              "6"
            ]
          },
          "metadata": {},
          "execution_count": 24
        }
      ]
    },
    {
      "cell_type": "markdown",
      "source": [
        "# 3. What are the main differences between lists and tuples in Python?\n",
        "  -***List***\n",
        "- Mutability=Mutable (can modify elements).\n",
        "- Syntax=Square brackets: [1, 2, 3]\n",
        "- Performance=Slower due to mutability overhead.\n",
        "- Use Case=When data needs to change (e.g., appending items).\n",
        "- Methods=Many methods like .append(), .pop()\n",
        "\n",
        "Example=lst = [1, 2]; lst.append(3) → [1, 2, 3]\n",
        "\n",
        "\n",
        "  -***Tuple***\n",
        "- Mutability=\tImmutable (cannot modify elements).\n",
        "- Syntax=\tParentheses: (1, 2, 3)\n",
        "- Performance=Faster due to immutability.\n",
        "- Use Case=When data should remain constant (e.g., fixed records)\n",
        "- Methods=Fewer methods like .count(), .index().\n",
        "\n",
        "Example= tup = (1, 2); tup[0] = 3 → Error"
      ],
      "metadata": {
        "id": "MJVH6H4DRk3e"
      }
    },
    {
      "cell_type": "markdown",
      "source": [
        "# 4. Describe how dictionaries store data?\n",
        "\n",
        "- **Structure**:- Dictionaries in Python store data as key-value pairs, where each key is unique and maps to a value.\n",
        "- **Storage Mechanism**:- Internally, dictionaries use a \"hash table\" (explained in Q8). Each key is hashed to generate an index, which points to the corresponding value in memory.\n",
        "- **Characteristics**:\n",
        "  - Keys must be immutable(e.g., strings, numbers, tuples) and unique.\n",
        "  - Values can be any data type (mutable or immutable).\n",
        "  - Access is fast, with average O(1) time complexity for lookups, insertions, and deletions.\n",
        "  Example"
      ],
      "metadata": {
        "id": "Kbas3068UVPK"
      }
    },
    {
      "cell_type": "code",
      "source": [
        "my_dict={\"name\": \"Aman\", \"age\": 29}\n",
        "\"Aman\" and 29    #name and age are key; Aman and 29 are \"value\".\n",
        "my_dict[\"name\"]"
      ],
      "metadata": {
        "colab": {
          "base_uri": "https://localhost:8080/",
          "height": 36
        },
        "id": "pSg5eBiQfRmY",
        "outputId": "b3758bb5-5c3b-4c8d-9b06-34f0637e5c4d"
      },
      "execution_count": 29,
      "outputs": [
        {
          "output_type": "execute_result",
          "data": {
            "text/plain": [
              "'Aman'"
            ],
            "application/vnd.google.colaboratory.intrinsic+json": {
              "type": "string"
            }
          },
          "metadata": {},
          "execution_count": 29
        }
      ]
    },
    {
      "cell_type": "markdown",
      "source": [
        "# 5. Why might you use a set instead of a list in Python?\n",
        "\n",
        "- **Uniqueness**: Sets automatically remove duplicates, while lists allow duplicates. Example:\n",
        "set([1, 1, 2]) >>{1, 2} and\n",
        "list([1, 1, 2]) >>[1, 1, 2]\n",
        "- **Fast Membership Testing**: Sets have O(1) average time complexity for checking if an element exists, compared to O(n) for lists. Example: `3 in {1, 2, 3} is faster than 3 in [1, 2, 3].\n",
        "- **Set Operations**: Sets support mathematical operations like union (`|`), intersection (`&`), and difference (`-`), useful in data analytics for comparing datasets. Example: {1, 2} & {2, 3}>>{2}`.\n",
        "- **Use Case**: Use sets to store unique items or perform operations like finding common elements in two datasets (e.g., unique customer IDs)."
      ],
      "metadata": {
        "id": "lpXY_bhiU1Gk"
      }
    },
    {
      "cell_type": "markdown",
      "source": [
        "# 6. What is a string in Python, and how is it different from a list?\n",
        "\n",
        "- **String in Python**: A string is an immutable sequence of characters(e.g, s = \"hello\").\n",
        "  - **Characteristics**:\n",
        "    - Immutable: Cannot modify characters (e.g, s[0] = \"H\" >> raises an error).\n",
        "    - Supports indexing, slicing, and methods like .upper(), .split().\n",
        "    - Stored as Unicode characters.\n",
        "\n",
        "- **Differences from a List**:\n",
        "\n",
        "-**String**\n",
        "\n",
        "Mutability= Immutable\n",
        "\n",
        "Content= Only characters (e.g., \"abc\")\n",
        "\n",
        "\n",
        "Methods=  String-specific (e.g., .join())\n",
        "\n",
        "\n",
        "Example=> s = \"hello\"; s[0] → \"h\"\n",
        "\n",
        "\n",
        "---------------------------\n",
        "\n",
        "\n",
        "-**List**\n",
        "\n",
        "Mutability= Mutable\n",
        "\n",
        "Content= Any data type (e.g., [1, \"a\"])\n",
        "\n",
        "\n",
        "Methods= List-specific (e.g., .append())\n",
        "\n",
        "\n",
        "Example= lst = [1, 2]; lst[0] = 3"
      ],
      "metadata": {
        "id": "pNFGr4ZYU1QI"
      }
    },
    {
      "cell_type": "markdown",
      "source": [
        "# 7. How do tuples ensure data integrity in Python?\n",
        "- **Immutability**: Tuples cannot be modified after creation (no appending, deleting, or changing elements), ensuring the data remains unchanged.\n",
        "  - Example: tup = (1, 2, 3); tup[0] = 5 >>Raises an error.\n",
        "- **Data Protection**: This immutability prevents accidental or unauthorized changes, making tuples reliable for storing constant data (e.g., coordinates, database records).\n",
        "- **Hashable**: Tuples can be used as dictionary keys or set elements (if their contents are immutable), ensuring consistent data in hash-based structures."
      ],
      "metadata": {
        "id": "F75IpcoFU1WU"
      }
    },
    {
      "cell_type": "markdown",
      "source": [
        "# 8. What is a hash table, and how does it relate to dictionaries in Python?\n",
        "- **Hash Table**: A data structure that stores key-value pairs using a hash function. The hash function converts a key into an index in an array, allowing fast O(1) average-time lookups, insertions, and deletions.\n",
        "  - **How It Works**:\n",
        "    - A key is hashed (e.g., \"name\" >> hash value 123).\n",
        "    - The hash value maps to an index in an array where the value is stored.\n",
        "    - Collisions (same index for different keys) are resolved using techniques like chaining or open addressing.\n",
        "\n",
        "- **Relation to Dictionaries**: Python dictionaries are implemented using hash tables.\n",
        "  - Keys must be immutable (and hashable) to ensure consistent hash values.\n",
        "  - Example: d = {\"name\": \"Alice\"} >> \"name\" is hashed to an index, and \"Alice\" is stored at that location.\n",
        "  - This enables fast access: d[\"name\"] retrieves \"Alice\" in O(1) time."
      ],
      "metadata": {
        "id": "A8tRltTCVPoN"
      }
    },
    {
      "cell_type": "markdown",
      "source": [
        "# 9. Can lists contain different data types in Python?\n",
        "- **Yes**, lists in Python are heterogeneous, meaning they can contain different data types.\n",
        "- **Example**: my_list = [1, \"hello\", 3.14, [2, 3], {\"a\": 1}]>>  Contains an integer, string, float, nested list, and dictionary.\n",
        "- **Use in Analytics**: This flexibility is useful for storing mixed data, like a list of records with numbers and text (e.g., [customer_id, name, purchase_amount]).\n",
        "- **Note**: While flexible, ensure consistent data types when using lists with libraries like NumPy or Pandas for efficient processing.\n"
      ],
      "metadata": {
        "id": "DVB-5nIlVQJa"
      }
    },
    {
      "cell_type": "markdown",
      "source": [
        "# 10. Explain why strings are immutable in Python?\n",
        "- **Immutability Reason**: Strings are designed to be immutable for efficiency, safety, and consistency.\n",
        "  - **Efficiency**: Immutable strings allow Python to reuse string objects (string interning), saving memory. Example: \"hello\" used multiple times may refer to the same object.\n",
        "  - **Safety**: Immutability prevents unintended changes, especially when strings are used as dictionary keys or in concurrent programs.\n",
        "  - **Hashability**: Immutable strings have consistent hash values, making them valid as dictionary keys or set elements.\n",
        "  - **Performance**: Modifications create new strings, but operations like concatenation are optimized internally.\n",
        "\n",
        "- **Example**: s = \"hello\"; s = s + \" world\" → Creates a new string \"hello world\", leaving the original \"hello\" unchanged.\n",
        "- **Use in Analytics**: Immutability ensures text data (e.g., column names in Pandas) remains consistent during processing.\n",
        "\n"
      ],
      "metadata": {
        "id": "w_-dW37FVQlc"
      }
    },
    {
      "cell_type": "markdown",
      "source": [
        "# 11. What advantages do dictionaries offer over lists for certain tasks?\n",
        "\n",
        "- **Fast Lookups**: Dictionaries use hash tables, providing O(1) average time complexity for accessing values by key, compared to O(n) for lists when searching by value.\n",
        "- **Key-Value Mapping**: Dictionaries store data as key-value pairs, ideal for associating data (e.g., customer ID → purchase amount), while lists store ordered sequences without inherent mappings.\n",
        "- **Unique Keys**: Dictionaries enforce unique keys, preventing duplicate mappings, unlike lists, which allow duplicates.\n",
        "- **Use Case**: In data analytics, dictionaries are better for quick lookups (e.g., mapping product IDs to prices in a dataset) than iterating over a list."
      ],
      "metadata": {
        "id": "wNnjCHMhU1ZQ"
      }
    },
    {
      "cell_type": "markdown",
      "source": [
        "# 12. Describe a scenario where using a tuple would be preferable over a list.\n",
        "- **Scenario**: Storing fixed, immutable data like GPS coordinates (latitude, longitude) in a data analytics project.\n",
        "- **Why Tuple?**:\n",
        "  - **Immutability**: Tuples prevent accidental changes, ensuring data integrity (e.g., (40.7128, -74.0060) for New York City remains constant).\n",
        "  - **Performance**: Tuples are faster and use less memory than lists due to immutability.\n",
        "  - **Hashability**: Tuples can be used as dictionary keys (e.g., mapping coordinates to city names), while lists cannot.\n",
        "- **Example**: `city_coords = {(40.7128, -74.0060): \"New York\"}` vs. a list, which could be modified accidentally."
      ],
      "metadata": {
        "id": "cMXCkSDMU1fG"
      }
    },
    {
      "cell_type": "markdown",
      "source": [
        "# 13. How do sets handle duplicate values in Python?\n",
        "- **Automatic Removal**: Sets only store unique values; duplicates are automatically discarded when creating or adding to a set.\n",
        "- **Example**: my_set = set([1, 1, 2, 2, 3]) >> {1, 2, 3}.\n",
        "- **Mechanism**: Sets use a hash table internally, where each element’s hash determines its uniqueness.\n",
        "- **Use in Analytics**: Sets are useful for deduplicating data, like finding unique customer IDs in a dataset: unique_ids = set(customer_ids)"
      ],
      "metadata": {
        "id": "dHitzXS-U1iX"
      }
    },
    {
      "cell_type": "markdown",
      "source": [
        "# 14. How does the \"in\" keyword work differently for lists and dictionaries?\n",
        "- **Lists**:\n",
        "  - Checks if an element exists in the list by iterating through it.\n",
        "  - Time Complexity: O(n), as it may need to scan the entire list.\n",
        "  - Example: 3 in [1, 2, 3] >>True, checks each element.\n",
        "\n",
        "- **Dictionaries**:\n",
        "  - Checks if a key exists in the dictionary using its hash table.\n",
        "  - Time Complexity: O(1) on average, due to fast hash-based lookup.\n",
        "  - Example: \"a\" in {\"a\": 1, \"b\": 2} >>True, checks keys only (not values).\n",
        "\n",
        "- **Analytics Insight**: Use dictionaries for faster membership testing in large datasets (e.g., checking if a product ID exists).\n",
        "\n"
      ],
      "metadata": {
        "id": "cjQJvAx4XuMb"
      }
    },
    {
      "cell_type": "markdown",
      "source": [
        "# 15. Can you modify the elements of a tuple? Explain why or why not.\n",
        "- **No**, tuple elements cannot be modified.\n",
        "- **Reason**: Tuples are **immutable** in Python, meaning their content is fixed after creation to ensure data integrity and hashability.\n",
        "- **Example**: tup = (1, 2, 3); tup[0] = 5 >> Raises TypeError: 'tuple' object does not support item assignment.\n",
        "- **Workaround**: Create a new tuple: tup = (5,) + tup[1:] >> `(5, 2, 3).\n",
        "- **Use in Analytics**: Immutability makes tuples ideal for storing constant data, like fixed column names or configuration settings."
      ],
      "metadata": {
        "id": "LrGlJlsQXuZ_"
      }
    },
    {
      "cell_type": "markdown",
      "source": [
        "# 16. What is a nested dictionary, and give an example of its use case?\n",
        "- **Nested Dictionary**: A dictionary where values are themselves dictionaries, allowing hierarchical data storage.\n",
        "- **Example**:\n",
        "  \n",
        "  students = {\n",
        "      \"Aman\": {\"age\": 29, \"grade\": \"A\"},\n",
        "      \"Rahul\": {\"age\": 25, \"grade\": \"B\"}\n",
        "  }\n",
        "   \n",
        "   Access:students[\"Aman\"][\"age\"] >> 29"
      ],
      "metadata": {
        "id": "kH55h90-Xuhj"
      }
    },
    {
      "cell_type": "markdown",
      "source": [
        "# 17. Describe the time complexity of accessing elements in a dictionary.\n",
        "- **Time Complexity**: O(1) on average for accessing elements in a dictionary.\n",
        "- **Reason**: Dictionaries use a hash table, where a key is hashed to compute an index in an array, allowing direct access to the value.\n",
        "- **Edge Case**: In rare cases of hash collisions, access may degrade to O(n), but Python’s hash table implementation minimizes this.\n",
        "- **Analytics Relevance**: Fast O(1) access makes dictionaries ideal for frequent lookups in large datasets, like mapping IDs to records."
      ],
      "metadata": {
        "id": "apedo2h3XuoQ"
      }
    },
    {
      "cell_type": "markdown",
      "source": [
        "# 18. In what situations are lists preferred over dictionaries?\n",
        "\n",
        "- **Ordered Data**: Lists maintain insertion order, ideal for sequences (e.g., time-series data: `[10, 20, 30]`), while dictionaries are key-based.\n",
        "- **Indexing by Position**: Lists allow access by integer index (e.g., `lst[0]`), while dictionaries use keys.\n",
        "- **Duplicates Allowed**: Lists permit duplicate elements, unlike dictionary keys, which must be unique.\n",
        "- **Sequential Processing**: Lists are better for iterating over data in order, like processing rows in a dataset.\n",
        "- **Example in Analytics**: Use lists to store ordered sales data for plotting trends with Matplotlib, where order matters."
      ],
      "metadata": {
        "id": "OCoXizhHXuuD"
      }
    },
    {
      "cell_type": "markdown",
      "source": [
        "# 19. Why are dictionaries considered unordered, and how does that affect data retrieval?\n",
        "- **Unordered Nature**: In Python versions before 3.7, dictionaries did not guarantee key order due to their hash table implementation. Since Python 3.7+, dictionaries preserve insertion order, but they are still considered “logically unordered” because order is not their primary feature (unlike lists).\n",
        "- **Reason**: Hash tables prioritize fast key-based access (O(1)), not sequential ordering. Keys are mapped to array indices via hashing, which doesn’t inherently preserve order.\n",
        "- **Effect on Retrieval**:\n",
        "  - Retrieval is key-based (dict[key]), not index-based, so order doesn’t affect access speed or correctness.\n",
        "  - If order matters (e.g., iterating keys), Python 3.7+ ensures keys are returned in insertion order."
      ],
      "metadata": {
        "id": "UK_5YudNXuyO"
      }
    },
    {
      "cell_type": "markdown",
      "source": [
        "# 20. Explain the difference between a list and a dictionary in terms of data retrieval.\n",
        "- **List**:\n",
        "  - **Retrieval Method**: Access elements by integer index (e.g., lst = [1, 2, 3]; lst[1] >> → 2).\n",
        "  - **Time Complexity**: O(1) for direct index access, but O(n) for searching a value (e.g., 3 in lst).\n",
        "  - **Structure**: Ordered sequence, ideal for positional or sequential data.\n",
        "  - **Use Case**: Retrieving time-series data by position (e.g., sales at index 0).\n",
        "\n",
        "- **Dictionary**:\n",
        "  - **Retrieval Method**: Access values by key (e.g., d = {\"a\": 1, \"b\": 2}; d[\"a\"] >> 1).\n",
        "  - **Time Complexity**: O(1) on average for key-based access due to hash table.\n",
        "  - **Structure**: Key-value pairs, ideal for mapping data.\n",
        "  - **Use Case**: Retrieving customer details by ID in a dataset (e.g., customer_dict[\"ID123\"])."
      ],
      "metadata": {
        "id": "07WbtdtMcLvl"
      }
    },
    {
      "cell_type": "markdown",
      "source": [
        "#***Practical Question***"
      ],
      "metadata": {
        "id": "hOCoMfaUtmob"
      }
    },
    {
      "cell_type": "markdown",
      "source": [
        "# 1. Write a code to create a string with your name and print it?"
      ],
      "metadata": {
        "id": "Jd97yOE8ttxO"
      }
    },
    {
      "cell_type": "code",
      "source": [
        "name=\"Aman\"    #Create a string with my name.\n",
        "print(name)"
      ],
      "metadata": {
        "colab": {
          "base_uri": "https://localhost:8080/"
        },
        "id": "QSinnHYSz_ua",
        "outputId": "a7070da4-891f-4a7e-97d1-05dfc938f6f1"
      },
      "execution_count": 31,
      "outputs": [
        {
          "output_type": "stream",
          "name": "stdout",
          "text": [
            "Aman\n"
          ]
        }
      ]
    },
    {
      "cell_type": "markdown",
      "source": [
        "# 2. Write a code to find the length of the string \"Hello World\"?"
      ],
      "metadata": {
        "id": "5_RLMlIm0WPA"
      }
    },
    {
      "cell_type": "code",
      "source": [
        "text=\"Hello World\"\n",
        "length=len(text)\n",
        "print(length)\n"
      ],
      "metadata": {
        "colab": {
          "base_uri": "https://localhost:8080/"
        },
        "id": "7LKerh-V0Yin",
        "outputId": "046da9fe-9700-4213-8267-e83a54ade409"
      },
      "execution_count": 32,
      "outputs": [
        {
          "output_type": "stream",
          "name": "stdout",
          "text": [
            "11\n"
          ]
        }
      ]
    },
    {
      "cell_type": "markdown",
      "source": [
        "# 3. Write a code to slice the first 3 characters from the string \"Python Programming\"?"
      ],
      "metadata": {
        "id": "540SlDFI0nQX"
      }
    },
    {
      "cell_type": "code",
      "source": [
        "text=\"Python Programming\"\n",
        "sliced=text[:3]\n",
        "print(sliced)\n"
      ],
      "metadata": {
        "colab": {
          "base_uri": "https://localhost:8080/"
        },
        "id": "BzzFkE5O0x2C",
        "outputId": "99d6f0ec-7284-4a24-850c-46e160b62829"
      },
      "execution_count": 33,
      "outputs": [
        {
          "output_type": "stream",
          "name": "stdout",
          "text": [
            "Pyt\n"
          ]
        }
      ]
    },
    {
      "cell_type": "markdown",
      "source": [
        "# 4. Write a code to convert the string \"hello\" to uppercase?"
      ],
      "metadata": {
        "id": "Bsmraeoz04oU"
      }
    },
    {
      "cell_type": "code",
      "source": [
        "text=\"hello\"\n",
        "upper_text=text.upper()   #Convert \"hello\" to uppercase\n",
        "print(upper_text)"
      ],
      "metadata": {
        "colab": {
          "base_uri": "https://localhost:8080/"
        },
        "id": "muEE0uGG04_H",
        "outputId": "cac5e590-1c91-400f-ae11-41d72d8ff09b"
      },
      "execution_count": 34,
      "outputs": [
        {
          "output_type": "stream",
          "name": "stdout",
          "text": [
            "HELLO\n"
          ]
        }
      ]
    },
    {
      "cell_type": "markdown",
      "source": [
        "# 5. Write a code to replace the word \"apple\" with \"orange\" in the string \"I like apple\"?"
      ],
      "metadata": {
        "id": "J0BWHI9h1VRL"
      }
    },
    {
      "cell_type": "code",
      "source": [
        "text=\"I like apple\" #output:- I like apple\n",
        "new_text=text.replace(\"apple\",\"orange\")   #Replace apple with orange.\n",
        "print(new_text)"
      ],
      "metadata": {
        "colab": {
          "base_uri": "https://localhost:8080/"
        },
        "id": "dIGSOI9d1Xxz",
        "outputId": "dab8f5f5-8887-4ad3-b382-fcdceebe0c44"
      },
      "execution_count": 35,
      "outputs": [
        {
          "output_type": "stream",
          "name": "stdout",
          "text": [
            "I like orange\n"
          ]
        }
      ]
    },
    {
      "cell_type": "markdown",
      "source": [
        "# 6. Write a code to create a list with numbers 1 to 5 and print it?"
      ],
      "metadata": {
        "id": "vCaHADdH15Z5"
      }
    },
    {
      "cell_type": "code",
      "source": [
        "numbers=[1, 2, 3, 4, 5]   #Create a list with numbers 1 to 5\n",
        "print(numbers)"
      ],
      "metadata": {
        "colab": {
          "base_uri": "https://localhost:8080/"
        },
        "id": "_-YigSXH2BiA",
        "outputId": "633f8cac-7084-47ea-cd7a-8a511a7d17ce"
      },
      "execution_count": 36,
      "outputs": [
        {
          "output_type": "stream",
          "name": "stdout",
          "text": [
            "[1, 2, 3, 4, 5]\n"
          ]
        }
      ]
    },
    {
      "cell_type": "markdown",
      "source": [
        "# 7. Write a code to append the number 10 to the list [1, 2, 3, 4]?"
      ],
      "metadata": {
        "id": "pUayuv7c2Rog"
      }
    },
    {
      "cell_type": "code",
      "source": [
        "numbers=[1, 2, 3, 4]    #Append the number 10 to the list\n",
        "numbers.append(10)\n",
        "print(numbers)"
      ],
      "metadata": {
        "colab": {
          "base_uri": "https://localhost:8080/"
        },
        "id": "lY3nzx-k2ZcU",
        "outputId": "3c2722a1-f99e-490b-a855-fdcdfd1bc6ba"
      },
      "execution_count": 37,
      "outputs": [
        {
          "output_type": "stream",
          "name": "stdout",
          "text": [
            "[1, 2, 3, 4, 10]\n"
          ]
        }
      ]
    },
    {
      "cell_type": "markdown",
      "source": [
        "# 8. Write a code to remove the number 3 from the list [1, 2, 3, 4, 5]?"
      ],
      "metadata": {
        "id": "DqW1RPdi2p5M"
      }
    },
    {
      "cell_type": "code",
      "source": [
        "numbers=[1, 2, 3, 4, 5]   #Remove the number 3 from the list\n",
        "numbers.remove(3)\n",
        "print(numbers)"
      ],
      "metadata": {
        "colab": {
          "base_uri": "https://localhost:8080/"
        },
        "id": "mgzizPBM2tqX",
        "outputId": "16d9792c-ff33-4df7-8c25-9018da0747ff"
      },
      "execution_count": 38,
      "outputs": [
        {
          "output_type": "stream",
          "name": "stdout",
          "text": [
            "[1, 2, 4, 5]\n"
          ]
        }
      ]
    },
    {
      "cell_type": "markdown",
      "source": [
        "# 9. Write a code to access the second element in the list ['a', 'b', 'c', 'd']?"
      ],
      "metadata": {
        "id": "T1T7dm6Q3Bep"
      }
    },
    {
      "cell_type": "code",
      "source": [
        "letters=['a', 'b', 'c', 'd']  #Access the second element in the list\n",
        "second_element=letters[1]\n",
        "print(second_element)"
      ],
      "metadata": {
        "colab": {
          "base_uri": "https://localhost:8080/"
        },
        "id": "ZmbFPAU-3Fxv",
        "outputId": "1f98c0bd-e843-4f64-c5ab-d9aa95eb1c0b"
      },
      "execution_count": 39,
      "outputs": [
        {
          "output_type": "stream",
          "name": "stdout",
          "text": [
            "b\n"
          ]
        }
      ]
    },
    {
      "cell_type": "markdown",
      "source": [
        "#10. Write a code to reverse the list [10, 20, 30, 40, 50]?"
      ],
      "metadata": {
        "id": "IscSGzMe3b7L"
      }
    },
    {
      "cell_type": "code",
      "source": [
        "numbers=[10, 20, 30, 40, 50]\n",
        "numbers.reverse()   #Reverse the list\n",
        "print(numbers)"
      ],
      "metadata": {
        "colab": {
          "base_uri": "https://localhost:8080/"
        },
        "id": "9ExeSPpw3jsX",
        "outputId": "09180714-ab92-48cd-cbf3-d7d44d6ebfa6"
      },
      "execution_count": 40,
      "outputs": [
        {
          "output_type": "stream",
          "name": "stdout",
          "text": [
            "[50, 40, 30, 20, 10]\n"
          ]
        }
      ]
    },
    {
      "cell_type": "markdown",
      "source": [
        "# 11. Write a code to create a tuple with the elements 100, 200, 300 and print it?"
      ],
      "metadata": {
        "id": "V_2kCBTS3zr5"
      }
    },
    {
      "cell_type": "code",
      "source": [
        "numbers=(100, 200, 300)   #Create a tuple with elements>>100, 200, 300\n",
        "print(numbers)"
      ],
      "metadata": {
        "colab": {
          "base_uri": "https://localhost:8080/"
        },
        "id": "1GH7hjla4Hqh",
        "outputId": "a9d82aee-b4d2-4d51-a22e-d85bcfdc5865"
      },
      "execution_count": 41,
      "outputs": [
        {
          "output_type": "stream",
          "name": "stdout",
          "text": [
            "(100, 200, 300)\n"
          ]
        }
      ]
    },
    {
      "cell_type": "markdown",
      "source": [
        "# 12. Write a code to access the second-to-last element of the tuple ('red', 'green', 'blue', 'yellow')?"
      ],
      "metadata": {
        "id": "ehe7vLub4a57"
      }
    },
    {
      "cell_type": "code",
      "source": [
        "colors=('red', 'green', 'blue', 'yellow')\n",
        "second_to_last=colors[-2]    #Access the second-to-last element of the tuple\n",
        "print(second_to_last)"
      ],
      "metadata": {
        "colab": {
          "base_uri": "https://localhost:8080/"
        },
        "id": "IWjdbmC64irJ",
        "outputId": "af03a5cb-24ed-4fb7-d35d-7790a4ba1634"
      },
      "execution_count": 42,
      "outputs": [
        {
          "output_type": "stream",
          "name": "stdout",
          "text": [
            "blue\n"
          ]
        }
      ]
    },
    {
      "cell_type": "markdown",
      "source": [
        "# 13. Write a code to find the minimum number in the tuple (10, 20, 5, 15)?"
      ],
      "metadata": {
        "id": "au7wPsjG4w7-"
      }
    },
    {
      "cell_type": "code",
      "source": [
        "numbers=(10, 20, 5, 15)    #Find the minimum number in the tuple\n",
        "min_value=min(numbers)\n",
        "print(min_value)"
      ],
      "metadata": {
        "colab": {
          "base_uri": "https://localhost:8080/"
        },
        "id": "fohflxln40NX",
        "outputId": "a35c79d2-eceb-4790-e4eb-ddb362e2c1d5"
      },
      "execution_count": 43,
      "outputs": [
        {
          "output_type": "stream",
          "name": "stdout",
          "text": [
            "5\n"
          ]
        }
      ]
    },
    {
      "cell_type": "markdown",
      "source": [
        "# 14. Write a code to find the index of the element \"cat\" in the tuple ('dog', 'cat', 'rabbit')?"
      ],
      "metadata": {
        "id": "n3rZXmv05A_R"
      }
    },
    {
      "cell_type": "code",
      "source": [
        "animals=('dog', 'cat', 'rabbit')  #Find the index of \"cat\" in the tuple\n",
        "index=animals.index('cat')\n",
        "print(index)"
      ],
      "metadata": {
        "colab": {
          "base_uri": "https://localhost:8080/"
        },
        "id": "9njvKy215GsX",
        "outputId": "11990fc0-cf27-4d93-bdb9-8169c2cd107c"
      },
      "execution_count": 44,
      "outputs": [
        {
          "output_type": "stream",
          "name": "stdout",
          "text": [
            "1\n"
          ]
        }
      ]
    },
    {
      "cell_type": "markdown",
      "source": [
        "# 15. Write a code to create a tuple containing three different fruits and check if \"kiwi\" is in it?"
      ],
      "metadata": {
        "id": "l7sEEMNX5clT"
      }
    },
    {
      "cell_type": "code",
      "source": [
        "fruits=('apple', 'banana', 'mango')  #Create a tuple with three fruits and check for \"kiwi\"\n",
        "is_kiwi_present='kiwi' in fruits\n",
        "print(is_kiwi_present)"
      ],
      "metadata": {
        "colab": {
          "base_uri": "https://localhost:8080/"
        },
        "id": "cevFW9om5ebL",
        "outputId": "095afc8b-0421-458e-db2e-054697e35df7"
      },
      "execution_count": 45,
      "outputs": [
        {
          "output_type": "stream",
          "name": "stdout",
          "text": [
            "False\n"
          ]
        }
      ]
    },
    {
      "cell_type": "code",
      "source": [
        "fruits=('apple', 'banana', 'kiwi')  #Create a tuple with three fruits and check for \"kiwi\"\n",
        "is_kiwi_present='kiwi' in fruits\n",
        "print(is_kiwi_present)"
      ],
      "metadata": {
        "colab": {
          "base_uri": "https://localhost:8080/"
        },
        "id": "YHOh9Jqg5xUU",
        "outputId": "e5c8ef4a-f424-4dbc-efe2-d115a9d477d5"
      },
      "execution_count": 46,
      "outputs": [
        {
          "output_type": "stream",
          "name": "stdout",
          "text": [
            "True\n"
          ]
        }
      ]
    },
    {
      "cell_type": "markdown",
      "source": [
        "# 16. Write a code to create a set with the elements 'a', 'b', 'c' and print it?"
      ],
      "metadata": {
        "id": "SzH6i5hn56vm"
      }
    },
    {
      "cell_type": "code",
      "source": [
        "letters = {'a', 'b', 'c'}\n",
        "print(letters)"
      ],
      "metadata": {
        "colab": {
          "base_uri": "https://localhost:8080/"
        },
        "id": "tngsRaX059Ln",
        "outputId": "6d44fa97-3d14-4ea6-a755-478ecf1b0fb0"
      },
      "execution_count": 56,
      "outputs": [
        {
          "output_type": "stream",
          "name": "stdout",
          "text": [
            "{'b', 'c', 'a'}\n"
          ]
        }
      ]
    },
    {
      "cell_type": "markdown",
      "source": [
        "# 17. Write a code to clear all elements from the set {1, 2, 3, 4, 5}?"
      ],
      "metadata": {
        "id": "aTvZn3UR70ni"
      }
    },
    {
      "cell_type": "code",
      "source": [
        "numbers={1, 2, 3, 4, 5}\n",
        "numbers.clear()    #Clear all elements from the set\n",
        "print(numbers)"
      ],
      "metadata": {
        "colab": {
          "base_uri": "https://localhost:8080/"
        },
        "id": "ti8I-xyX6M0w",
        "outputId": "549f2654-7641-4ab0-a457-5380801b568e"
      },
      "execution_count": 57,
      "outputs": [
        {
          "output_type": "stream",
          "name": "stdout",
          "text": [
            "set()\n"
          ]
        }
      ]
    },
    {
      "cell_type": "markdown",
      "source": [
        "# 18. Write a code to remove the element 4 from the set {1, 2, 3, 4}?"
      ],
      "metadata": {
        "id": "S60UBcY-8Lm4"
      }
    },
    {
      "cell_type": "code",
      "source": [
        "numbers={1, 2, 3, 4}\n",
        "numbers.remove(4)   #Remove element 4 from the set\n",
        "print(numbers)"
      ],
      "metadata": {
        "colab": {
          "base_uri": "https://localhost:8080/"
        },
        "id": "RD1MH5_g8FUp",
        "outputId": "879ece1c-5a67-4d6a-9a90-b5416387d459"
      },
      "execution_count": 58,
      "outputs": [
        {
          "output_type": "stream",
          "name": "stdout",
          "text": [
            "{1, 2, 3}\n"
          ]
        }
      ]
    },
    {
      "cell_type": "markdown",
      "source": [
        "# 19. Write a code to find the union of two sets {1, 2, 3} and {3, 4, 5}?"
      ],
      "metadata": {
        "id": "iq4aCkDl8Zbr"
      }
    },
    {
      "cell_type": "code",
      "source": [
        "set1={1, 2, 3}\n",
        "set2={3, 4, 5}\n",
        "union_set=set1|set2   #union of two sets\n",
        "print(union_set)"
      ],
      "metadata": {
        "colab": {
          "base_uri": "https://localhost:8080/"
        },
        "id": "8RDwHSg-8fPy",
        "outputId": "84be242e-af05-4301-8ce6-4f7ae7d6c765"
      },
      "execution_count": 60,
      "outputs": [
        {
          "output_type": "stream",
          "name": "stdout",
          "text": [
            "{1, 2, 3, 4, 5}\n"
          ]
        }
      ]
    },
    {
      "cell_type": "markdown",
      "source": [
        "# 20. Write a code to find the intersection of two sets {1, 2, 3} and {2, 3, 4}?"
      ],
      "metadata": {
        "id": "yBp9pIlJ9Mfy"
      }
    },
    {
      "cell_type": "code",
      "source": [
        "set1={1, 2, 3}\n",
        "set2={2, 3, 4}\n",
        "intersection_set=set1&set2  #intersection of two sets\n",
        "print(intersection_set)"
      ],
      "metadata": {
        "colab": {
          "base_uri": "https://localhost:8080/"
        },
        "id": "n0-lpdJ89Ol4",
        "outputId": "e18611ac-0863-42fd-9a05-ff818f8a5bec"
      },
      "execution_count": 61,
      "outputs": [
        {
          "output_type": "stream",
          "name": "stdout",
          "text": [
            "{2, 3}\n"
          ]
        }
      ]
    },
    {
      "cell_type": "markdown",
      "source": [
        "# 21. Write a code to create a dictionary with the keys \"name\", \"age\", and \"city\", and print it?"
      ],
      "metadata": {
        "id": "GM0M2EP89jbx"
      }
    },
    {
      "cell_type": "code",
      "source": [
        "my_dict={\"name\": \"Aman\", \"age\": \"29\", \"city\": \"Agra\"}  #Create a dictionary with name, age, and city\n",
        "print(my_dict)"
      ],
      "metadata": {
        "colab": {
          "base_uri": "https://localhost:8080/"
        },
        "id": "_lOf_fw182Xx",
        "outputId": "9afb4b49-8c2d-410e-b9a5-0703893bc2f2"
      },
      "execution_count": 68,
      "outputs": [
        {
          "output_type": "stream",
          "name": "stdout",
          "text": [
            "{'name': 'Aman', 'age': '29', 'city': 'Agra'}\n"
          ]
        }
      ]
    },
    {
      "cell_type": "markdown",
      "source": [
        "# 22. Write a code to add a new key-value pair \"country\": \"USA\" to the dictionary {'name': 'John', 'age': 25}?"
      ],
      "metadata": {
        "id": "gWoA3YRc9icn"
      }
    },
    {
      "cell_type": "code",
      "source": [
        "my_dict={'name': 'John', 'age': 25}\n",
        "my_dict['country']='USA'  #Add a new key-value pair \"country\": \"USA\" to the dictionary\n",
        "print(my_dict)"
      ],
      "metadata": {
        "colab": {
          "base_uri": "https://localhost:8080/"
        },
        "id": "SjeWEtg0-O-m",
        "outputId": "10ecc834-015b-431b-96a1-19726ea32039"
      },
      "execution_count": 66,
      "outputs": [
        {
          "output_type": "stream",
          "name": "stdout",
          "text": [
            "{'name': 'John', 'age': 25, 'country': 'USA'}\n"
          ]
        }
      ]
    },
    {
      "cell_type": "markdown",
      "source": [
        "# 23. Write a code to access the value associated with the key \"name\" in the dictionary {'name': 'Alice', 'age': 30}?"
      ],
      "metadata": {
        "id": "wDQY_9oO-kT0"
      }
    },
    {
      "cell_type": "code",
      "source": [
        "my_dict={'name': 'Alice', 'age': 30}\n",
        "name=my_dict['name']    #Access value for key \"name\"\n",
        "print(name)"
      ],
      "metadata": {
        "colab": {
          "base_uri": "https://localhost:8080/"
        },
        "id": "k8V8b_7K-hGz",
        "outputId": "2102a930-175d-458d-afb8-311e89d35795"
      },
      "execution_count": 69,
      "outputs": [
        {
          "output_type": "stream",
          "name": "stdout",
          "text": [
            "Alice\n"
          ]
        }
      ]
    },
    {
      "cell_type": "markdown",
      "source": [
        "# 24. Write a code to remove the key \"age\" from the dictionary {'name': 'Bob', 'age': 22, 'city': 'New York'}?"
      ],
      "metadata": {
        "id": "4lm4FnfV_azk"
      }
    },
    {
      "cell_type": "code",
      "source": [
        "my_dict={'name': 'Bob', 'age': 22, 'city': 'New York'}\n",
        "del my_dict['age']   #Remove key \"age\" from dictionaryv\n",
        "print(my_dict)"
      ],
      "metadata": {
        "colab": {
          "base_uri": "https://localhost:8080/"
        },
        "id": "ka2m2qYh_E7T",
        "outputId": "7265048e-b960-4f3d-9887-95a557242724"
      },
      "execution_count": 70,
      "outputs": [
        {
          "output_type": "stream",
          "name": "stdout",
          "text": [
            "{'name': 'Bob', 'city': 'New York'}\n"
          ]
        }
      ]
    },
    {
      "cell_type": "markdown",
      "source": [
        "# 25. Write a code to check if the key \"city\" exists in the dictionary {'name': 'Alice', 'city': 'Paris'}?"
      ],
      "metadata": {
        "id": "WuJJOPlu_Rts"
      }
    },
    {
      "cell_type": "code",
      "source": [
        "my_dict={'name': 'Alice', 'city': 'Paris'}\n",
        "is_city_present='city' in my_dict  #Check if key \"city\" exists in dictionary\n",
        "print(is_city_present)"
      ],
      "metadata": {
        "colab": {
          "base_uri": "https://localhost:8080/"
        },
        "id": "k87oZYRt_28c",
        "outputId": "20252e40-fe35-47ad-8f8a-55ca68628ab0"
      },
      "execution_count": 71,
      "outputs": [
        {
          "output_type": "stream",
          "name": "stdout",
          "text": [
            "True\n"
          ]
        }
      ]
    },
    {
      "cell_type": "markdown",
      "source": [
        "# 26. Write a code to create a list, a tuple, and a dictionary, and print them all?"
      ],
      "metadata": {
        "id": "QQd-1phmAGVv"
      }
    },
    {
      "cell_type": "code",
      "source": [
        "my_list=[1, 2, 3]\n",
        "my_tuple=('a', 'b', 'c')\n",
        "my_dict={'name': 'Aman', 'age': 29}\n",
        "\n",
        "#Create a list, tuple, and dictionary\n",
        "\n",
        "print(\"List:\", my_list)\n",
        "print(\"Tuple:\", my_tuple)\n",
        "print(\"Dictionary:\", my_dict)"
      ],
      "metadata": {
        "colab": {
          "base_uri": "https://localhost:8080/"
        },
        "id": "jrbwHo_gAAVe",
        "outputId": "77f23db3-9a78-461b-d5ef-02c3ecaa2bac"
      },
      "execution_count": 72,
      "outputs": [
        {
          "output_type": "stream",
          "name": "stdout",
          "text": [
            "List: [1, 2, 3]\n",
            "Tuple: ('a', 'b', 'c')\n",
            "Dictionary: {'name': 'Aman', 'age': 29}\n"
          ]
        }
      ]
    },
    {
      "cell_type": "markdown",
      "source": [
        "# 27. Write a code to create a list of 5 random numbers between 1 and 100, sort it in ascending order, and print the result?"
      ],
      "metadata": {
        "id": "m9qnwFt4AdE1"
      }
    },
    {
      "cell_type": "code",
      "source": [
        "import random\n",
        "numbers=random.sample(range(1, 101), 5)   #Create a list of 5 random numbers\n",
        "numbers.sort()     #sort a list of 5 random numbers\n",
        "print(numbers)"
      ],
      "metadata": {
        "colab": {
          "base_uri": "https://localhost:8080/"
        },
        "id": "6StPWjQRAhGq",
        "outputId": "edb2ace7-b8b0-42c3-dc8d-fd6f79917785"
      },
      "execution_count": 74,
      "outputs": [
        {
          "output_type": "stream",
          "name": "stdout",
          "text": [
            "[30, 35, 42, 45, 78]\n"
          ]
        }
      ]
    },
    {
      "cell_type": "markdown",
      "source": [
        "# 28. Write a code to create a list with strings and print the element at the third index?"
      ],
      "metadata": {
        "id": "wngvN_mkBBR8"
      }
    },
    {
      "cell_type": "code",
      "source": [
        "strings=['apple', 'banana', 'mango', 'kiwi', 'papaya']    #Create a list of strings\n",
        "third_element=strings[3]   #print third index\n",
        "print(third_element)"
      ],
      "metadata": {
        "colab": {
          "base_uri": "https://localhost:8080/"
        },
        "id": "iiPp3Lo3BF73",
        "outputId": "f20be8ad-375c-4586-8b1a-3b9501c90afa"
      },
      "execution_count": 76,
      "outputs": [
        {
          "output_type": "stream",
          "name": "stdout",
          "text": [
            "kiwi\n"
          ]
        }
      ]
    },
    {
      "cell_type": "markdown",
      "source": [
        "# 29. Write a code to combine two dictionaries into one and print the result?"
      ],
      "metadata": {
        "id": "nlJO0nYOBfiM"
      }
    },
    {
      "cell_type": "code",
      "source": [
        "dict1={'name': 'Aman', 'age': 29}\n",
        "dict2={'city': 'Delhi', 'country': 'India'}\n",
        "combined_dict={dict1, dict2}   #Combine two dictionaries\n",
        "print(combined_dict)"
      ],
      "metadata": {
        "colab": {
          "base_uri": "https://localhost:8080/"
        },
        "id": "eM0xjYsIBgv2",
        "outputId": "37036b40-7141-4cbb-a0be-600176586e86"
      },
      "execution_count": 77,
      "outputs": [
        {
          "output_type": "stream",
          "name": "stdout",
          "text": [
            "{'name': 'Aman', 'age': 29, 'city': 'Delhi', 'country': 'India'}\n"
          ]
        }
      ]
    },
    {
      "cell_type": "markdown",
      "source": [
        "# 30. Write a code to convert a list of strings into a set?"
      ],
      "metadata": {
        "id": "KNR8_xd5CWfJ"
      }
    },
    {
      "cell_type": "code",
      "source": [
        "string_list=['apple', 'banana', 'apple', 'cherry']\n",
        "string_set=set(string_list)   #Convert a list of strings to a set\n",
        "print(string_set)"
      ],
      "metadata": {
        "colab": {
          "base_uri": "https://localhost:8080/"
        },
        "id": "_FUQ8d7wCafL",
        "outputId": "a5666153-b967-4c9c-d26f-0ab1930893e1"
      },
      "execution_count": 78,
      "outputs": [
        {
          "output_type": "stream",
          "name": "stdout",
          "text": [
            "{'banana', 'cherry', 'apple'}\n"
          ]
        }
      ]
    }
  ]
}